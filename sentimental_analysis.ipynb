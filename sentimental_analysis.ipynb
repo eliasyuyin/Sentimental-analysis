{
 "cells": [
  {
   "cell_type": "code",
   "execution_count": 22,
   "id": "c489d6ba-0a23-493e-a079-5862dffc7f2a",
   "metadata": {},
   "outputs": [],
   "source": [
    "import numpy as np\n",
    "import tensorflow as tf\n",
    "from tensorflow import keras\n",
    "import os\n",
    "import re\n",
    "import tensorflow_datasets as tfds"
   ]
  },
  {
   "cell_type": "code",
   "execution_count": 23,
   "id": "799a93e5-27c9-453a-9f94-3a5066f083b2",
   "metadata": {},
   "outputs": [],
   "source": [
    "raw_train_set, raw_valid_set, raw_test_set = tfds.load(\n",
    "    name = \"imdb_reviews\",\n",
    "    split = [\"train[:90%]\", \"train[90%:]\", \"test\"],\n",
    "    as_supervised = True\n",
    ")"
   ]
  },
  {
   "cell_type": "code",
   "execution_count": 24,
   "id": "5e040761-bdcd-4063-88de-1e41c0a908c9",
   "metadata": {},
   "outputs": [],
   "source": [
    "train_set = raw_train_set.shuffle(5000, seed = 42).batch(32).prefetch(1)\n",
    "valid_set = raw_valid_set.batch(32).prefetch(1)\n",
    "test_set = raw_test_set.batch(32).prefetch(1)"
   ]
  },
  {
   "cell_type": "code",
   "execution_count": 25,
   "id": "755ccb6a-f8dd-4cad-958c-fb28b8f6c9cb",
   "metadata": {},
   "outputs": [
    {
     "name": "stdout",
     "output_type": "stream",
     "text": [
      "This was an absolutely terrible movie. Don't be lured in by Christopher Walken or Michael Ironside. Both are great actors, but this must simply be their worst role in history. Even their great acting could not redeem this movie's ridiculous storyline. This movie is an early nineties US propaganda piece. The most pathetic scenes were those when the Columbian rebels were making their cases for revolutions. Maria Conchita Alonso appeared phony, and her pseudo-love affair with Walken was nothing but a pathetic emotional plug in a movie that was devoid of any real meaning. I am disappointed that there are movies like this, ruining actor's like Christopher Walken's good name. I could barely sit through it.\n",
      "label 0\n",
      "I have been known to fall asleep during films, but this is usually due to a combination of things including, really tired, being warm and comfortable on the sette and having just eaten a lot. However on this occasion I fell asleep because the film was rubbish. The plot development was constant. Constantly slow and boring. Things seemed to happen, but with no explanation of what was causing them or why. I admit, I may have missed part of the film, but i watched the majority of it and everything just seemed to happen of its own accord without any real concern for anything else. I cant recommend this film at all.\n",
      "label 0\n",
      "Mann photographs the Alberta Rocky Mountains in a superb fashion, and Jimmy Stewart and Walter Brennan give enjoyable performances as they always seem to do. <br /><br />But come on Hollywood - a Mountie telling the people of Dawson City, Yukon to elect themselves a marshal (yes a marshal!) and to enforce the law themselves, then gunfighters battling it out on the streets for control of the town? <br /><br />Nothing even remotely resembling that happened on the Canadian side of the border during the Klondike gold rush. Mr. Mann and company appear to have mistaken Dawson City for Deadwood, the Canadian North for the American Wild West.<br /><br />Canadian viewers be prepared for a Reefer Madness type of enjoyable howl with this ludicrous plot, or, to shake your head in disgust.\n",
      "label 0\n",
      "This is the kind of film for a snowy Sunday afternoon when the rest of the world can go ahead with its own business as you descend into a big arm-chair and mellow for a couple of hours. Wonderful performances from Cher and Nicolas Cage (as always) gently row the plot along. There are no rapids to cross, no dangerous waters, just a warm and witty paddle through New York life at its best. A family film in every sense and one that deserves the praise it received.\n",
      "label 1\n"
     ]
    }
   ],
   "source": [
    "for review, label in raw_train_set.take(4):\n",
    "    print(review.numpy().decode(\"utf-8\"))\n",
    "    print(\"label\", label.numpy())"
   ]
  },
  {
   "cell_type": "code",
   "execution_count": 26,
   "id": "4b1dc7e2-3802-4e18-a401-3a8ae710a6dd",
   "metadata": {},
   "outputs": [],
   "source": [
    "vocab_size = 1000"
   ]
  },
  {
   "cell_type": "code",
   "execution_count": 27,
   "id": "8326d379-6818-4207-8d5b-ff057578fe2e",
   "metadata": {},
   "outputs": [],
   "source": [
    "text_vec_layer = tf.keras.layers.TextVectorization(max_tokens = vocab_size)"
   ]
  },
  {
   "cell_type": "code",
   "execution_count": 28,
   "id": "4eec1faf-c07b-40af-8452-b3163d4c0a7d",
   "metadata": {},
   "outputs": [],
   "source": [
    "text_vec_layer.adapt(train_set.map(lambda reviews, labels: reviews))"
   ]
  },
  {
   "cell_type": "code",
   "execution_count": 29,
   "id": "a1966c35-344b-4640-a32b-aaae19275f0e",
   "metadata": {},
   "outputs": [],
   "source": [
    "model = tf.keras.Sequential([\n",
    "    text_vec_layer,\n",
    "    tf.keras.layers.Embedding(vocab_size, 128, mask_zero = True),\n",
    "    tf.keras.layers.GRU(128),\n",
    "    tf.keras.layers.Dense(1, activation = \"sigmoid\")\n",
    "])"
   ]
  },
  {
   "cell_type": "code",
   "execution_count": 30,
   "id": "3b0e69a1-4c12-4d67-a7c2-9be03b918879",
   "metadata": {},
   "outputs": [],
   "source": [
    "model.compile(loss = \"binary_crossentropy\", optimizer = \"nadam\",\n",
    "              metrics = [\"accuracy\"])"
   ]
  },
  {
   "cell_type": "code",
   "execution_count": 32,
   "id": "b0ca20cc-9d0b-422a-b79e-e1b87b496fbe",
   "metadata": {},
   "outputs": [
    {
     "name": "stdout",
     "output_type": "stream",
     "text": [
      "Epoch 1/5\n",
      "704/704 [==============================] - 24s 34ms/step - loss: 0.3974 - accuracy: 0.8203 - val_loss: 0.3283 - val_accuracy: 0.8540\n",
      "Epoch 2/5\n",
      "704/704 [==============================] - 23s 33ms/step - loss: 0.3206 - accuracy: 0.8629 - val_loss: 0.3115 - val_accuracy: 0.8712\n",
      "Epoch 3/5\n",
      "704/704 [==============================] - 24s 34ms/step - loss: 0.3010 - accuracy: 0.8719 - val_loss: 0.2984 - val_accuracy: 0.8732\n",
      "Epoch 4/5\n",
      "704/704 [==============================] - 24s 34ms/step - loss: 0.2804 - accuracy: 0.8825 - val_loss: 0.2999 - val_accuracy: 0.8724\n",
      "Epoch 5/5\n",
      "704/704 [==============================] - 23s 33ms/step - loss: 0.2612 - accuracy: 0.8927 - val_loss: 0.3021 - val_accuracy: 0.8728\n"
     ]
    }
   ],
   "source": [
    "history = model.fit(train_set, validation_data = valid_set, epochs = 5)"
   ]
  },
  {
   "cell_type": "code",
   "execution_count": 33,
   "id": "62e4921b-798e-4fd0-ad5b-5be5ac1b7dad",
   "metadata": {},
   "outputs": [
    {
     "name": "stdout",
     "output_type": "stream",
     "text": [
      "782/782 [==============================] - 11s 14ms/step - loss: 0.3123 - accuracy: 0.8673\n"
     ]
    },
    {
     "data": {
      "text/plain": [
       "[0.31229883432388306, 0.8673200011253357]"
      ]
     },
     "execution_count": 33,
     "metadata": {},
     "output_type": "execute_result"
    }
   ],
   "source": [
    "model.evaluate(test_set)"
   ]
  },
  {
   "cell_type": "code",
   "execution_count": 34,
   "id": "96c2035c-3d61-42e3-9a89-efc4cbc87391",
   "metadata": {},
   "outputs": [
    {
     "data": {
      "text/plain": [
       "array([[0.90012205],\n",
       "       [0.97965014],\n",
       "       [0.07511107],\n",
       "       [0.35713652],\n",
       "       [0.99318564],\n",
       "       [0.97297794],\n",
       "       [0.99601656],\n",
       "       [0.99159616],\n",
       "       [0.48128152],\n",
       "       [0.81453866],\n",
       "       [0.02436734],\n",
       "       [0.85723984],\n",
       "       [0.81507677],\n",
       "       [0.16622739],\n",
       "       [0.28210062],\n",
       "       [0.46126086],\n",
       "       [0.971219  ],\n",
       "       [0.3428719 ],\n",
       "       [0.8949495 ],\n",
       "       [0.00440716],\n",
       "       [0.00939815],\n",
       "       [0.9640079 ],\n",
       "       [0.0678355 ],\n",
       "       [0.26761574],\n",
       "       [0.9824569 ],\n",
       "       [0.5051686 ],\n",
       "       [0.19485536],\n",
       "       [0.29720235],\n",
       "       [0.41259533],\n",
       "       [0.7853859 ],\n",
       "       [0.91356295],\n",
       "       [0.9719829 ]], dtype=float32)"
      ]
     },
     "execution_count": 34,
     "metadata": {},
     "output_type": "execute_result"
    }
   ],
   "source": [
    "model.predict(test_set.take(1))"
   ]
  },
  {
   "cell_type": "code",
   "execution_count": 35,
   "id": "24cea8d2-38d9-4f56-ac5f-289c9d462f07",
   "metadata": {},
   "outputs": [
    {
     "name": "stdout",
     "output_type": "stream",
     "text": [
      "tf.Tensor([1 1 0 0 1 1 1 1 0 1 0 0 1 0 1 0 1 0 1 0 0 1 0 0 1 1 0 0 0 1 1 1], shape=(32,), dtype=int64)\n"
     ]
    }
   ],
   "source": [
    "for review, label in test_set.take(1):\n",
    "    print(label)"
   ]
  }
 ],
 "metadata": {
  "kernelspec": {
   "display_name": "Python 3 (ipykernel)",
   "language": "python",
   "name": "python3"
  },
  "language_info": {
   "codemirror_mode": {
    "name": "ipython",
    "version": 3
   },
   "file_extension": ".py",
   "mimetype": "text/x-python",
   "name": "python",
   "nbconvert_exporter": "python",
   "pygments_lexer": "ipython3",
   "version": "3.9.18"
  }
 },
 "nbformat": 4,
 "nbformat_minor": 5
}
